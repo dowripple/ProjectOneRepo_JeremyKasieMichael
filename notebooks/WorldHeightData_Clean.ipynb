{
 "cells": [
  {
   "cell_type": "markdown",
   "metadata": {},
   "source": [
    "# Importing the global height data\n",
    "### Importing modules"
   ]
  },
  {
   "cell_type": "code",
   "execution_count": 1,
   "metadata": {},
   "outputs": [],
   "source": [
    "# importing modules\n",
    "import matplotlib.pyplot as plt\n",
    "import pandas as pd\n",
    "import numpy as np\n",
    "import os\n",
    "from pprint import pprint"
   ]
  },
  {
   "cell_type": "markdown",
   "metadata": {},
   "source": [
    "### Importing raw file"
   ]
  },
  {
   "cell_type": "code",
   "execution_count": 2,
   "metadata": {},
   "outputs": [
    {
     "data": {
      "text/html": [
       "<div>\n",
       "<style scoped>\n",
       "    .dataframe tbody tr th:only-of-type {\n",
       "        vertical-align: middle;\n",
       "    }\n",
       "\n",
       "    .dataframe tbody tr th {\n",
       "        vertical-align: top;\n",
       "    }\n",
       "\n",
       "    .dataframe thead th {\n",
       "        text-align: right;\n",
       "    }\n",
       "</style>\n",
       "<table border=\"1\" class=\"dataframe\">\n",
       "  <thead>\n",
       "    <tr style=\"text-align: right;\">\n",
       "      <th></th>\n",
       "      <th>Country</th>\n",
       "      <th>ISO</th>\n",
       "      <th>Sex</th>\n",
       "      <th>Year of birth</th>\n",
       "      <th>Mean height (cm)</th>\n",
       "      <th>Mean height lower 95% uncertainty interval (cm)</th>\n",
       "      <th>Mean height upper 95% uncertainty interval (cm)</th>\n",
       "    </tr>\n",
       "  </thead>\n",
       "  <tbody>\n",
       "    <tr>\n",
       "      <td>0</td>\n",
       "      <td>Afghanistan</td>\n",
       "      <td>AFG</td>\n",
       "      <td>Men</td>\n",
       "      <td>1896</td>\n",
       "      <td>161.164095</td>\n",
       "      <td>154.484285</td>\n",
       "      <td>167.754033</td>\n",
       "    </tr>\n",
       "    <tr>\n",
       "      <td>1</td>\n",
       "      <td>Afghanistan</td>\n",
       "      <td>AFG</td>\n",
       "      <td>Men</td>\n",
       "      <td>1897</td>\n",
       "      <td>161.196286</td>\n",
       "      <td>154.571603</td>\n",
       "      <td>167.659618</td>\n",
       "    </tr>\n",
       "    <tr>\n",
       "      <td>2</td>\n",
       "      <td>Afghanistan</td>\n",
       "      <td>AFG</td>\n",
       "      <td>Men</td>\n",
       "      <td>1898</td>\n",
       "      <td>161.228297</td>\n",
       "      <td>154.707340</td>\n",
       "      <td>167.602576</td>\n",
       "    </tr>\n",
       "    <tr>\n",
       "      <td>3</td>\n",
       "      <td>Afghanistan</td>\n",
       "      <td>AFG</td>\n",
       "      <td>Men</td>\n",
       "      <td>1899</td>\n",
       "      <td>161.260727</td>\n",
       "      <td>154.835644</td>\n",
       "      <td>167.528113</td>\n",
       "    </tr>\n",
       "    <tr>\n",
       "      <td>4</td>\n",
       "      <td>Afghanistan</td>\n",
       "      <td>AFG</td>\n",
       "      <td>Men</td>\n",
       "      <td>1900</td>\n",
       "      <td>161.293068</td>\n",
       "      <td>154.959540</td>\n",
       "      <td>167.508077</td>\n",
       "    </tr>\n",
       "  </tbody>\n",
       "</table>\n",
       "</div>"
      ],
      "text/plain": [
       "       Country  ISO  Sex  Year of birth  Mean height (cm)  \\\n",
       "0  Afghanistan  AFG  Men           1896        161.164095   \n",
       "1  Afghanistan  AFG  Men           1897        161.196286   \n",
       "2  Afghanistan  AFG  Men           1898        161.228297   \n",
       "3  Afghanistan  AFG  Men           1899        161.260727   \n",
       "4  Afghanistan  AFG  Men           1900        161.293068   \n",
       "\n",
       "   Mean height lower 95% uncertainty interval (cm)  \\\n",
       "0                                       154.484285   \n",
       "1                                       154.571603   \n",
       "2                                       154.707340   \n",
       "3                                       154.835644   \n",
       "4                                       154.959540   \n",
       "\n",
       "   Mean height upper 95% uncertainty interval (cm)  \n",
       "0                                       167.754033  \n",
       "1                                       167.659618  \n",
       "2                                       167.602576  \n",
       "3                                       167.528113  \n",
       "4                                       167.508077  "
      ]
     },
     "execution_count": 2,
     "metadata": {},
     "output_type": "execute_result"
    }
   ],
   "source": [
    "\n",
    "# athlete events df from csv\n",
    "global_file = os.path.join(\"..\",\"data\", \"rawData\",\"NCD_RisC_eLife_2016_height_age18_countries.txt\")\n",
    "global_df = pd.read_csv(global_file, encoding=\"ISO-8859-1\")\n",
    "\n",
    "# To get the raw data count, commented out to keep the original df .head() results prominent\n",
    "raw_count = len(global_df)\n",
    "\n",
    "# preview the raw data\n",
    "global_df.head()"
   ]
  },
  {
   "cell_type": "markdown",
   "metadata": {},
   "source": [
    "### Check for nulls..."
   ]
  },
  {
   "cell_type": "code",
   "execution_count": 3,
   "metadata": {},
   "outputs": [
    {
     "data": {
      "text/plain": [
       "Country                                            False\n",
       "ISO                                                False\n",
       "Sex                                                False\n",
       "Year of birth                                      False\n",
       "Mean height (cm)                                   False\n",
       "Mean height lower 95% uncertainty interval (cm)    False\n",
       "Mean height upper 95% uncertainty interval (cm)    False\n",
       "dtype: bool"
      ]
     },
     "execution_count": 3,
     "metadata": {},
     "output_type": "execute_result"
    }
   ],
   "source": [
    "# checking for any null values\n",
    "pd.isna(global_df).any()\n",
    "\n",
    "# looks good!\n"
   ]
  },
  {
   "cell_type": "markdown",
   "metadata": {},
   "source": [
    "### Correcting the measures!  Also adding \"Olympic Year\", an offset of 19"
   ]
  },
  {
   "cell_type": "code",
   "execution_count": 4,
   "metadata": {},
   "outputs": [
    {
     "data": {
      "text/html": [
       "<div>\n",
       "<style scoped>\n",
       "    .dataframe tbody tr th:only-of-type {\n",
       "        vertical-align: middle;\n",
       "    }\n",
       "\n",
       "    .dataframe tbody tr th {\n",
       "        vertical-align: top;\n",
       "    }\n",
       "\n",
       "    .dataframe thead th {\n",
       "        text-align: right;\n",
       "    }\n",
       "</style>\n",
       "<table border=\"1\" class=\"dataframe\">\n",
       "  <thead>\n",
       "    <tr style=\"text-align: right;\">\n",
       "      <th></th>\n",
       "      <th>Country</th>\n",
       "      <th>ISO</th>\n",
       "      <th>Sex</th>\n",
       "      <th>Year of birth</th>\n",
       "      <th>Mean height (cm)</th>\n",
       "      <th>Mean height lower 95% uncertainty interval (cm)</th>\n",
       "      <th>Mean height upper 95% uncertainty interval (cm)</th>\n",
       "      <th>Mean height (inches)</th>\n",
       "      <th>Mean height lower 95% uncertainty interval (inches)</th>\n",
       "      <th>Mean height upper 95% uncertainty interval (inches)</th>\n",
       "      <th>Olympic Year</th>\n",
       "    </tr>\n",
       "  </thead>\n",
       "  <tbody>\n",
       "    <tr>\n",
       "      <td>0</td>\n",
       "      <td>Afghanistan</td>\n",
       "      <td>AFG</td>\n",
       "      <td>Men</td>\n",
       "      <td>1896</td>\n",
       "      <td>161.164095</td>\n",
       "      <td>154.484285</td>\n",
       "      <td>167.754033</td>\n",
       "      <td>63.450431</td>\n",
       "      <td>60.820585</td>\n",
       "      <td>66.044895</td>\n",
       "      <td>1915</td>\n",
       "    </tr>\n",
       "    <tr>\n",
       "      <td>1</td>\n",
       "      <td>Afghanistan</td>\n",
       "      <td>AFG</td>\n",
       "      <td>Men</td>\n",
       "      <td>1897</td>\n",
       "      <td>161.196286</td>\n",
       "      <td>154.571603</td>\n",
       "      <td>167.659618</td>\n",
       "      <td>63.463105</td>\n",
       "      <td>60.854962</td>\n",
       "      <td>66.007724</td>\n",
       "      <td>1916</td>\n",
       "    </tr>\n",
       "    <tr>\n",
       "      <td>2</td>\n",
       "      <td>Afghanistan</td>\n",
       "      <td>AFG</td>\n",
       "      <td>Men</td>\n",
       "      <td>1898</td>\n",
       "      <td>161.228297</td>\n",
       "      <td>154.707340</td>\n",
       "      <td>167.602576</td>\n",
       "      <td>63.475707</td>\n",
       "      <td>60.908402</td>\n",
       "      <td>65.985266</td>\n",
       "      <td>1917</td>\n",
       "    </tr>\n",
       "    <tr>\n",
       "      <td>3</td>\n",
       "      <td>Afghanistan</td>\n",
       "      <td>AFG</td>\n",
       "      <td>Men</td>\n",
       "      <td>1899</td>\n",
       "      <td>161.260727</td>\n",
       "      <td>154.835644</td>\n",
       "      <td>167.528113</td>\n",
       "      <td>63.488475</td>\n",
       "      <td>60.958915</td>\n",
       "      <td>65.955950</td>\n",
       "      <td>1918</td>\n",
       "    </tr>\n",
       "    <tr>\n",
       "      <td>4</td>\n",
       "      <td>Afghanistan</td>\n",
       "      <td>AFG</td>\n",
       "      <td>Men</td>\n",
       "      <td>1900</td>\n",
       "      <td>161.293068</td>\n",
       "      <td>154.959540</td>\n",
       "      <td>167.508077</td>\n",
       "      <td>63.501208</td>\n",
       "      <td>61.007693</td>\n",
       "      <td>65.948062</td>\n",
       "      <td>1919</td>\n",
       "    </tr>\n",
       "  </tbody>\n",
       "</table>\n",
       "</div>"
      ],
      "text/plain": [
       "       Country  ISO  Sex  Year of birth  Mean height (cm)  \\\n",
       "0  Afghanistan  AFG  Men           1896        161.164095   \n",
       "1  Afghanistan  AFG  Men           1897        161.196286   \n",
       "2  Afghanistan  AFG  Men           1898        161.228297   \n",
       "3  Afghanistan  AFG  Men           1899        161.260727   \n",
       "4  Afghanistan  AFG  Men           1900        161.293068   \n",
       "\n",
       "   Mean height lower 95% uncertainty interval (cm)  \\\n",
       "0                                       154.484285   \n",
       "1                                       154.571603   \n",
       "2                                       154.707340   \n",
       "3                                       154.835644   \n",
       "4                                       154.959540   \n",
       "\n",
       "   Mean height upper 95% uncertainty interval (cm)  Mean height (inches)  \\\n",
       "0                                       167.754033             63.450431   \n",
       "1                                       167.659618             63.463105   \n",
       "2                                       167.602576             63.475707   \n",
       "3                                       167.528113             63.488475   \n",
       "4                                       167.508077             63.501208   \n",
       "\n",
       "   Mean height lower 95% uncertainty interval (inches)  \\\n",
       "0                                          60.820585     \n",
       "1                                          60.854962     \n",
       "2                                          60.908402     \n",
       "3                                          60.958915     \n",
       "4                                          61.007693     \n",
       "\n",
       "   Mean height upper 95% uncertainty interval (inches)  Olympic Year  \n",
       "0                                          66.044895            1915  \n",
       "1                                          66.007724            1916  \n",
       "2                                          65.985266            1917  \n",
       "3                                          65.955950            1918  \n",
       "4                                          65.948062            1919  "
      ]
     },
     "execution_count": 4,
     "metadata": {},
     "output_type": "execute_result"
    }
   ],
   "source": [
    "# conver the height stuff\n",
    "global_df['Mean height (inches)'] = global_df['Mean height (cm)'].apply(lambda x: x / 2.54)\n",
    "global_df['Mean height lower 95% uncertainty interval (inches)'] = global_df['Mean height lower 95% uncertainty interval (cm)'].apply(lambda x: x / 2.54)\n",
    "global_df['Mean height upper 95% uncertainty interval (inches)'] = global_df['Mean height upper 95% uncertainty interval (cm)'].apply(lambda x: x / 2.54)\n",
    "\n",
    "# setting offset to 19 for now\n",
    "offset = 19\n",
    "\n",
    "global_df['Olympic Year'] = global_df['Year of birth'] + offset\n",
    "\n",
    "# looking at new columns\n",
    "global_df.head()"
   ]
  },
  {
   "cell_type": "markdown",
   "metadata": {},
   "source": [
    "### chart the data over time (men/women 1896-1996)"
   ]
  },
  {
   "cell_type": "code",
   "execution_count": 12,
   "metadata": {},
   "outputs": [
    {
     "data": {
      "image/png": "[encoded data removed]",
      "text/plain": [
       "<Figure size 720x360 with 1 Axes>"
      ]
     },
     "metadata": {
      "needs_background": "light"
     },
     "output_type": "display_data"
    }
   ],
   "source": [
    "# group by to get the average\n",
    "global_avg = pd.DataFrame(global_df.groupby(['Year of birth','Sex'])['Mean height (inches)'].mean().reset_index())\n",
    "\n",
    "# pivot to get 1 column per gender\n",
    "global_pivot = global_avg.pivot(index='Year of birth', columns='Sex', values = 'Mean height (inches)').reset_index()\n",
    "\n",
    "# rename columns\n",
    "global_pivot = global_pivot.rename(columns={'Men':'Males', 'Women': 'Females'})\n",
    "global_pivot.head()\n",
    "\n",
    "x_ticks = np.arange(1896,1996,10)\n",
    "\n",
    "global_chart = global_pivot.plot(\n",
    "    x = 'Year of birth',\n",
    "    y = ['Males', 'Females'],\n",
    "    figsize=(10,5),\n",
    "    ylim = (58,69),\n",
    "    xlim = (1894,1998),\n",
    "    fontsize = 15\n",
    ")\n",
    "\n",
    "# add axis labels\n",
    "global_chart.set_xlabel(\"Year\", fontsize=15)\n",
    "global_chart.set_ylabel('Avg Height (inches)', fontsize=15)\n",
    "global_chart.set_xticks(x_ticks)\n",
    "global_chart.yaxis.grid(True)\n",
    "global_chart.legend(loc='best',fontsize=15)\n",
    "global_chart.set_title('Global Population Average Height at 18, Born 1896-1996', fontdict={'fontsize': 20, 'fontweight': 'medium'})\n",
    "\n",
    "global_chart.get_figure().savefig('..\\images\\global_height_1896_2016.png')"
   ]
  },
  {
   "cell_type": "markdown",
   "metadata": {},
   "source": [
    "### Just the men to match the Olympic data..."
   ]
  },
  {
   "cell_type": "code",
   "execution_count": 6,
   "metadata": {},
   "outputs": [
    {
     "data": {
      "text/html": [
       "<div>\n",
       "<style scoped>\n",
       "    .dataframe tbody tr th:only-of-type {\n",
       "        vertical-align: middle;\n",
       "    }\n",
       "\n",
       "    .dataframe tbody tr th {\n",
       "        vertical-align: top;\n",
       "    }\n",
       "\n",
       "    .dataframe thead th {\n",
       "        text-align: right;\n",
       "    }\n",
       "</style>\n",
       "<table border=\"1\" class=\"dataframe\">\n",
       "  <thead>\n",
       "    <tr style=\"text-align: right;\">\n",
       "      <th></th>\n",
       "      <th>Country</th>\n",
       "      <th>ISO</th>\n",
       "      <th>Sex</th>\n",
       "      <th>Year of birth</th>\n",
       "      <th>Mean height (cm)</th>\n",
       "      <th>Mean height lower 95% uncertainty interval (cm)</th>\n",
       "      <th>Mean height upper 95% uncertainty interval (cm)</th>\n",
       "      <th>Mean height (inches)</th>\n",
       "      <th>Mean height lower 95% uncertainty interval (inches)</th>\n",
       "      <th>Mean height upper 95% uncertainty interval (inches)</th>\n",
       "      <th>Olympic Year</th>\n",
       "    </tr>\n",
       "  </thead>\n",
       "  <tbody>\n",
       "    <tr>\n",
       "      <td>0</td>\n",
       "      <td>Afghanistan</td>\n",
       "      <td>AFG</td>\n",
       "      <td>Men</td>\n",
       "      <td>1896</td>\n",
       "      <td>161.164095</td>\n",
       "      <td>154.484285</td>\n",
       "      <td>167.754033</td>\n",
       "      <td>63.450431</td>\n",
       "      <td>60.820585</td>\n",
       "      <td>66.044895</td>\n",
       "      <td>1915</td>\n",
       "    </tr>\n",
       "    <tr>\n",
       "      <td>1</td>\n",
       "      <td>Afghanistan</td>\n",
       "      <td>AFG</td>\n",
       "      <td>Men</td>\n",
       "      <td>1897</td>\n",
       "      <td>161.196286</td>\n",
       "      <td>154.571603</td>\n",
       "      <td>167.659618</td>\n",
       "      <td>63.463105</td>\n",
       "      <td>60.854962</td>\n",
       "      <td>66.007724</td>\n",
       "      <td>1916</td>\n",
       "    </tr>\n",
       "    <tr>\n",
       "      <td>2</td>\n",
       "      <td>Afghanistan</td>\n",
       "      <td>AFG</td>\n",
       "      <td>Men</td>\n",
       "      <td>1898</td>\n",
       "      <td>161.228297</td>\n",
       "      <td>154.707340</td>\n",
       "      <td>167.602576</td>\n",
       "      <td>63.475707</td>\n",
       "      <td>60.908402</td>\n",
       "      <td>65.985266</td>\n",
       "      <td>1917</td>\n",
       "    </tr>\n",
       "    <tr>\n",
       "      <td>3</td>\n",
       "      <td>Afghanistan</td>\n",
       "      <td>AFG</td>\n",
       "      <td>Men</td>\n",
       "      <td>1899</td>\n",
       "      <td>161.260727</td>\n",
       "      <td>154.835644</td>\n",
       "      <td>167.528113</td>\n",
       "      <td>63.488475</td>\n",
       "      <td>60.958915</td>\n",
       "      <td>65.955950</td>\n",
       "      <td>1918</td>\n",
       "    </tr>\n",
       "    <tr>\n",
       "      <td>4</td>\n",
       "      <td>Afghanistan</td>\n",
       "      <td>AFG</td>\n",
       "      <td>Men</td>\n",
       "      <td>1900</td>\n",
       "      <td>161.293068</td>\n",
       "      <td>154.959540</td>\n",
       "      <td>167.508077</td>\n",
       "      <td>63.501208</td>\n",
       "      <td>61.007693</td>\n",
       "      <td>65.948062</td>\n",
       "      <td>1919</td>\n",
       "    </tr>\n",
       "  </tbody>\n",
       "</table>\n",
       "</div>"
      ],
      "text/plain": [
       "       Country  ISO  Sex  Year of birth  Mean height (cm)  \\\n",
       "0  Afghanistan  AFG  Men           1896        161.164095   \n",
       "1  Afghanistan  AFG  Men           1897        161.196286   \n",
       "2  Afghanistan  AFG  Men           1898        161.228297   \n",
       "3  Afghanistan  AFG  Men           1899        161.260727   \n",
       "4  Afghanistan  AFG  Men           1900        161.293068   \n",
       "\n",
       "   Mean height lower 95% uncertainty interval (cm)  \\\n",
       "0                                       154.484285   \n",
       "1                                       154.571603   \n",
       "2                                       154.707340   \n",
       "3                                       154.835644   \n",
       "4                                       154.959540   \n",
       "\n",
       "   Mean height upper 95% uncertainty interval (cm)  Mean height (inches)  \\\n",
       "0                                       167.754033             63.450431   \n",
       "1                                       167.659618             63.463105   \n",
       "2                                       167.602576             63.475707   \n",
       "3                                       167.528113             63.488475   \n",
       "4                                       167.508077             63.501208   \n",
       "\n",
       "   Mean height lower 95% uncertainty interval (inches)  \\\n",
       "0                                          60.820585     \n",
       "1                                          60.854962     \n",
       "2                                          60.908402     \n",
       "3                                          60.958915     \n",
       "4                                          61.007693     \n",
       "\n",
       "   Mean height upper 95% uncertainty interval (inches)  Olympic Year  \n",
       "0                                          66.044895            1915  \n",
       "1                                          66.007724            1916  \n",
       "2                                          65.985266            1917  \n",
       "3                                          65.955950            1918  \n",
       "4                                          65.948062            1919  "
      ]
     },
     "execution_count": 6,
     "metadata": {},
     "output_type": "execute_result"
    }
   ],
   "source": [
    "men_df = global_df.loc[global_df['Sex']=='Men']\n",
    "\n",
    "men_df.head()"
   ]
  },
  {
   "cell_type": "markdown",
   "metadata": {},
   "source": [
    "### Save a copy of this file, we want to compare it to the olympian data in that cleaning process..."
   ]
  },
  {
   "cell_type": "code",
   "execution_count": 7,
   "metadata": {},
   "outputs": [],
   "source": [
    "full_file = os.path.join(\"..\", \"data\", \"cleanData\", \"Mens_WorldHeight_AllYears.csv\")\n",
    "men_df.to_csv(full_file, index=False, header=True)"
   ]
  },
  {
   "cell_type": "markdown",
   "metadata": {},
   "source": [
    "### Grab only 1960-2016, but at estimated Olympic age (since we have DOB)\n",
    "We may need to add something to year of birth to align the data better.  Someone competing in the 2000 Olympics would have been born sometime in the 1980's.\\n \n",
    "Maybe we need to grab the median age from olympic data?\n",
    "For now, setting offset to 19 years..."
   ]
  },
  {
   "cell_type": "code",
   "execution_count": 8,
   "metadata": {},
   "outputs": [
    {
     "name": "stderr",
     "output_type": "stream",
     "text": [
      "C:\\Users\\18324\\Anaconda3\\lib\\site-packages\\ipykernel_launcher.py:5: SettingWithCopyWarning: \n",
      "A value is trying to be set on a copy of a slice from a DataFrame.\n",
      "Try using .loc[row_indexer,col_indexer] = value instead\n",
      "\n",
      "See the caveats in the documentation: http://pandas.pydata.org/pandas-docs/stable/user_guide/indexing.html#returning-a-view-versus-a-copy\n",
      "  \"\"\"\n"
     ]
    },
    {
     "ename": "NameError",
     "evalue": "name 'globalMen' is not defined",
     "output_type": "error",
     "traceback": [
      "\u001b[1;31m---------------------------------------------------------------------------\u001b[0m",
      "\u001b[1;31mNameError\u001b[0m                                 Traceback (most recent call last)",
      "\u001b[1;32m<ipython-input-8-8632eaaa87c4>\u001b[0m in \u001b[0;36m<module>\u001b[1;34m\u001b[0m\n\u001b[0;32m      9\u001b[0m \u001b[1;33m\u001b[0m\u001b[0m\n\u001b[0;32m     10\u001b[0m \u001b[1;31m# now just grab the years we are interested in \"Olympic Year\" >= 1960 and <= 2016\u001b[0m\u001b[1;33m\u001b[0m\u001b[1;33m\u001b[0m\u001b[1;33m\u001b[0m\u001b[0m\n\u001b[1;32m---> 11\u001b[1;33m \u001b[0mmen_modern_df\u001b[0m \u001b[1;33m=\u001b[0m \u001b[0mmen_df\u001b[0m\u001b[1;33m.\u001b[0m\u001b[0mloc\u001b[0m\u001b[1;33m[\u001b[0m\u001b[0mglobalMen\u001b[0m\u001b[1;33m[\u001b[0m\u001b[1;34m'Olympic Year'\u001b[0m\u001b[1;33m]\u001b[0m\u001b[1;33m>=\u001b[0m\u001b[1;36m1960\u001b[0m\u001b[1;33m]\u001b[0m\u001b[1;33m\u001b[0m\u001b[1;33m\u001b[0m\u001b[0m\n\u001b[0m\u001b[0;32m     12\u001b[0m \u001b[1;33m\u001b[0m\u001b[0m\n\u001b[0;32m     13\u001b[0m \u001b[0mmen_modern_df\u001b[0m\u001b[1;33m.\u001b[0m\u001b[0mhead\u001b[0m\u001b[1;33m(\u001b[0m\u001b[1;33m)\u001b[0m\u001b[1;33m\u001b[0m\u001b[1;33m\u001b[0m\u001b[0m\n",
      "\u001b[1;31mNameError\u001b[0m: name 'globalMen' is not defined"
     ]
    }
   ],
   "source": [
    "# variable to store generation offset\n",
    "age_offset = 19\n",
    "\n",
    "# new column to show \"estimated\" year of olympic competition\n",
    "men_df['Olympic Year'] = men_df['Year of birth'] + age_offset\n",
    "\n",
    "# verify\n",
    "# men_df.head()\n",
    "\n",
    "# now just grab the years we are interested in \"Olympic Year\" >= 1960 and <= 2016\n",
    "men_modern_df = men_df.loc[globalMen['Olympic Year']>=1960]\n",
    "\n",
    "men_modern_df.head()"
   ]
  },
  {
   "cell_type": "markdown",
   "metadata": {},
   "source": [
    "### Now only go every 4 years..."
   ]
  },
  {
   "cell_type": "code",
   "execution_count": null,
   "metadata": {},
   "outputs": [],
   "source": [
    "# series of the Olympic years (every 4)\n",
    "olympic_yrs = np.arange(1960,2020,4)\n",
    "\n",
    "# # make it a dataframe\n",
    "olympicYr_df = pd.DataFrame({\n",
    "    'Olympic Year': olympic_yrs\n",
    "})\n",
    "\n",
    "# now merge with global height data\n",
    "globalOlympic = pd.merge(men_modern_df,olympicYr_df, on='Olympic Year', how='inner')\n",
    "\n",
    "# # # looking at it\n",
    "globalOlympic.head()\n"
   ]
  },
  {
   "cell_type": "markdown",
   "metadata": {},
   "source": [
    "### avg the averages\n",
    "#### Looking at the global average by Olympic year"
   ]
  },
  {
   "cell_type": "code",
   "execution_count": null,
   "metadata": {},
   "outputs": [],
   "source": [
    "# group by object to average height for males, across Olympic years (Year of Birth + Offset)\n",
    "avg_df = pd.DataFrame(globalOlympic.groupby('Olympic Year')['Mean height (inches)'].mean().reset_index())\n",
    "\n",
    "# avg_df.head(20)\n",
    "\n",
    "# plot for fun\n",
    "male_avg = avg_df.plot(\n",
    "    x = 'Olympic Year',\n",
    "    y = 'Mean height (inches)',\n",
    "    figsize=(10,5),\n",
    "    ylim = (66,68),\n",
    "    fontsize = 15\n",
    ")\n",
    "\n",
    "# add axis labels\n",
    "male_avg.set_xlabel(\"Olympic Year\", fontsize=15)\n",
    "male_avg.set_ylabel('Avg Height (inches)', fontsize=15)\n",
    "male_avg.yaxis.grid(True)\n",
    "male_avg.legend(loc='best',fontsize=15)\n",
    "male_avg.set_title('Global Avg Male Height at Olympic Age', fontdict={'fontsize': 20, 'fontweight': 'medium'})\n",
    "\n",
    "male_avg.get_figure().savefig('..\\images\\global_male_avg.png')    \n"
   ]
  },
  {
   "cell_type": "markdown",
   "metadata": {},
   "source": [
    "### save clean data to csv, to be used when datasets are combined"
   ]
  },
  {
   "cell_type": "code",
   "execution_count": null,
   "metadata": {},
   "outputs": [],
   "source": [
    "full_file = os.path.join(\"..\", \"data\", \"cleanData\", \"Mens_WorldHeight_1960_2016.csv\")\n",
    "globalOlympic.to_csv(full_file, index=False, header=True)\n",
    "\n",
    "full_file = os.path.join(\"..\", \"data\", \"cleanData\", \"Mens_WorldHeight_Avg.csv\")\n",
    "avg_df.to_csv(full_file, index=False, header=True)\n"
   ]
  },
  {
   "cell_type": "code",
   "execution_count": null,
   "metadata": {},
   "outputs": [],
   "source": []
  }
 ],
 "metadata": {
  "kernelspec": {
   "display_name": "Python 3",
   "language": "python",
   "name": "python3"
  },
  "language_info": {
   "codemirror_mode": {
    "name": "ipython",
    "version": 3
   },
   "file_extension": ".py",
   "mimetype": "text/x-python",
   "name": "python",
   "nbconvert_exporter": "python",
   "pygments_lexer": "ipython3",
   "version": "3.7.4"
  }
 },
 "nbformat": 4,
 "nbformat_minor": 2
}

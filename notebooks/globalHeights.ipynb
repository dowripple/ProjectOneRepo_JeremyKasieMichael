{
 "cells": [
  {
   "cell_type": "markdown",
   "metadata": {},
   "source": [
    "# Importing the global height data\n",
    "## source: "
   ]
  },
  {
   "cell_type": "code",
   "execution_count": 1,
   "metadata": {},
   "outputs": [],
   "source": [
    "# importing modules\n",
    "import matplotlib.pyplot as plt\n",
    "import pandas as pd\n",
    "import numpy as np\n",
    "import os\n",
    "from pprint import pprint"
   ]
  },
  {
   "cell_type": "markdown",
   "metadata": {},
   "source": [
    "### Importing raw file"
   ]
  },
  {
   "cell_type": "code",
   "execution_count": 2,
   "metadata": {},
   "outputs": [
    {
     "data": {
      "text/html": [
       "<div>\n",
       "<style scoped>\n",
       "    .dataframe tbody tr th:only-of-type {\n",
       "        vertical-align: middle;\n",
       "    }\n",
       "\n",
       "    .dataframe tbody tr th {\n",
       "        vertical-align: top;\n",
       "    }\n",
       "\n",
       "    .dataframe thead th {\n",
       "        text-align: right;\n",
       "    }\n",
       "</style>\n",
       "<table border=\"1\" class=\"dataframe\">\n",
       "  <thead>\n",
       "    <tr style=\"text-align: right;\">\n",
       "      <th></th>\n",
       "      <th>Country</th>\n",
       "      <th>ISO</th>\n",
       "      <th>Sex</th>\n",
       "      <th>Year of birth</th>\n",
       "      <th>Mean height (cm)</th>\n",
       "      <th>Mean height lower 95% uncertainty interval (cm)</th>\n",
       "      <th>Mean height upper 95% uncertainty interval (cm)</th>\n",
       "    </tr>\n",
       "  </thead>\n",
       "  <tbody>\n",
       "    <tr>\n",
       "      <td>0</td>\n",
       "      <td>Afghanistan</td>\n",
       "      <td>AFG</td>\n",
       "      <td>Men</td>\n",
       "      <td>1896</td>\n",
       "      <td>161.164095</td>\n",
       "      <td>154.484285</td>\n",
       "      <td>167.754033</td>\n",
       "    </tr>\n",
       "    <tr>\n",
       "      <td>1</td>\n",
       "      <td>Afghanistan</td>\n",
       "      <td>AFG</td>\n",
       "      <td>Men</td>\n",
       "      <td>1897</td>\n",
       "      <td>161.196286</td>\n",
       "      <td>154.571603</td>\n",
       "      <td>167.659618</td>\n",
       "    </tr>\n",
       "    <tr>\n",
       "      <td>2</td>\n",
       "      <td>Afghanistan</td>\n",
       "      <td>AFG</td>\n",
       "      <td>Men</td>\n",
       "      <td>1898</td>\n",
       "      <td>161.228297</td>\n",
       "      <td>154.707340</td>\n",
       "      <td>167.602576</td>\n",
       "    </tr>\n",
       "    <tr>\n",
       "      <td>3</td>\n",
       "      <td>Afghanistan</td>\n",
       "      <td>AFG</td>\n",
       "      <td>Men</td>\n",
       "      <td>1899</td>\n",
       "      <td>161.260727</td>\n",
       "      <td>154.835644</td>\n",
       "      <td>167.528113</td>\n",
       "    </tr>\n",
       "    <tr>\n",
       "      <td>4</td>\n",
       "      <td>Afghanistan</td>\n",
       "      <td>AFG</td>\n",
       "      <td>Men</td>\n",
       "      <td>1900</td>\n",
       "      <td>161.293068</td>\n",
       "      <td>154.959540</td>\n",
       "      <td>167.508077</td>\n",
       "    </tr>\n",
       "  </tbody>\n",
       "</table>\n",
       "</div>"
      ],
      "text/plain": [
       "       Country  ISO  Sex  Year of birth  Mean height (cm)  \\\n",
       "0  Afghanistan  AFG  Men           1896        161.164095   \n",
       "1  Afghanistan  AFG  Men           1897        161.196286   \n",
       "2  Afghanistan  AFG  Men           1898        161.228297   \n",
       "3  Afghanistan  AFG  Men           1899        161.260727   \n",
       "4  Afghanistan  AFG  Men           1900        161.293068   \n",
       "\n",
       "   Mean height lower 95% uncertainty interval (cm)  \\\n",
       "0                                       154.484285   \n",
       "1                                       154.571603   \n",
       "2                                       154.707340   \n",
       "3                                       154.835644   \n",
       "4                                       154.959540   \n",
       "\n",
       "   Mean height upper 95% uncertainty interval (cm)  \n",
       "0                                       167.754033  \n",
       "1                                       167.659618  \n",
       "2                                       167.602576  \n",
       "3                                       167.528113  \n",
       "4                                       167.508077  "
      ]
     },
     "execution_count": 2,
     "metadata": {},
     "output_type": "execute_result"
    }
   ],
   "source": [
    "\n",
    "# athlete events df from csv\n",
    "global_file = os.path.join(\"..\",\"data\", \"rawData\",\"NCD_RisC_eLife_2016_height_age18_countries.txt\")\n",
    "global_df = pd.read_csv(global_file, encoding=\"ISO-8859-1\")\n",
    "\n",
    "# To get the raw data count, commented out to keep the original df .head() results prominent\n",
    "raw_count = len(global_df)\n",
    "\n",
    "# preview the raw data\n",
    "global_df.head()"
   ]
  },
  {
   "cell_type": "markdown",
   "metadata": {},
   "source": [
    "### Check for nulls..."
   ]
  },
  {
   "cell_type": "code",
   "execution_count": null,
   "metadata": {},
   "outputs": [],
   "source": []
  },
  {
   "cell_type": "markdown",
   "metadata": {},
   "source": [
    "### Grab only 1960-2016, step 4 years"
   ]
  },
  {
   "cell_type": "code",
   "execution_count": null,
   "metadata": {},
   "outputs": [],
   "source": []
  },
  {
   "cell_type": "markdown",
   "metadata": {},
   "source": [
    "### Convert to Imperial"
   ]
  },
  {
   "cell_type": "code",
   "execution_count": null,
   "metadata": {},
   "outputs": [],
   "source": []
  },
  {
   "cell_type": "markdown",
   "metadata": {},
   "source": [
    "### Chart some stuff"
   ]
  },
  {
   "cell_type": "code",
   "execution_count": null,
   "metadata": {},
   "outputs": [],
   "source": []
  },
  {
   "cell_type": "markdown",
   "metadata": {},
   "source": [
    "### save clean data to csv, to be used when datasets are combined"
   ]
  },
  {
   "cell_type": "code",
   "execution_count": null,
   "metadata": {},
   "outputs": [],
   "source": []
  }
 ],
 "metadata": {
  "kernelspec": {
   "display_name": "Python 3",
   "language": "python",
   "name": "python3"
  },
  "language_info": {
   "codemirror_mode": {
    "name": "ipython",
    "version": 3
   },
   "file_extension": ".py",
   "mimetype": "text/x-python",
   "name": "python",
   "nbconvert_exporter": "python",
   "pygments_lexer": "ipython3",
   "version": "3.7.4"
  }
 },
 "nbformat": 4,
 "nbformat_minor": 2
}
